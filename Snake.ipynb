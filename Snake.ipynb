{
 "cells": [
  {
   "cell_type": "code",
   "execution_count": 1,
   "metadata": {},
   "outputs": [],
   "source": [
    "import random\n",
    "from random import randint\n",
    "import turtle\n",
    "import sys\n",
    "import time\n",
    "from time import sleep"
   ]
  },
  {
   "cell_type": "markdown",
   "metadata": {},
   "source": [
    "Sets up the screen."
   ]
  },
  {
   "cell_type": "code",
   "execution_count": 2,
   "metadata": {},
   "outputs": [],
   "source": [
    "base = turtle.Screen()\n",
    "base.setup(600,400)\n",
    "base.bgcolor(\"grey\")\n",
    "delay = 1"
   ]
  },
  {
   "cell_type": "markdown",
   "metadata": {},
   "source": [
    "Creates snake head."
   ]
  },
  {
   "cell_type": "code",
   "execution_count": 3,
   "metadata": {},
   "outputs": [],
   "source": [
    "python = turtle.Turtle()\n",
    "python.shape(\"square\")\n",
    "python.shapesize(0.5,0.5,1)\n",
    "python.color(\"blue\")\n",
    "python.speed(1)\n",
    "python.direction = \"stop\"\n",
    "python.penup()"
   ]
  },
  {
   "cell_type": "raw",
   "metadata": {},
   "source": [
    "Creates snake food."
   ]
  },
  {
   "cell_type": "code",
   "execution_count": 4,
   "metadata": {},
   "outputs": [],
   "source": [
    "food = turtle.Turtle()\n",
    "food.shape(\"square\")\n",
    "food.shapesize(0.5,0.5,1)\n",
    "food.color(\"black\")\n",
    "food.penup()\n",
    "food.goto(randint(-290,290), randint(-190,190)) #randomizes food location"
   ]
  },
  {
   "cell_type": "markdown",
   "metadata": {},
   "source": [
    "Creates snake body."
   ]
  },
  {
   "cell_type": "code",
   "execution_count": 5,
   "metadata": {},
   "outputs": [],
   "source": [
    "score = 0\n",
    "high_score = 0\n",
    "\n",
    "pen = turtle.Turtle()\n",
    "pen.speed(0)\n",
    "pen.shape(\"square\")\n",
    "pen.color(\"black\")\n",
    "pen.penup()\n",
    "pen.hideturtle()\n",
    "pen.goto(0, 160)\n",
    "pen.write(\"Score: 0  High Score: 0\", align=\"center\", font=(\"Times\", 18))"
   ]
  },
  {
   "cell_type": "markdown",
   "metadata": {},
   "source": [
    "Defines snake's movement."
   ]
  },
  {
   "cell_type": "code",
   "execution_count": 6,
   "metadata": {},
   "outputs": [],
   "source": [
    "def right_side():\n",
    "    if python.direction != \"left\":\n",
    "        python.direction = \"right\"\n",
    "def up():\n",
    "    if python.direction != \"down\":\n",
    "        python.direction = \"up\"\n",
    "def left_side():\n",
    "    if python.direction != \"right\":\n",
    "        python.direction = \"left\"\n",
    "def down():\n",
    "    if python.direction != \"up\":\n",
    "        python.direction = \"down\"\n",
    "        \n",
    "def move_python():\n",
    "    if python.direction == \"right\":\n",
    "        x = python.xcor()\n",
    "        python.setx(x + 10)\n",
    "    elif python.direction == \"up\":\n",
    "        y = python.ycor()\n",
    "        python.sety(y + 10)\n",
    "    elif python.direction == \"left\":\n",
    "        x = python.xcor()\n",
    "        python.setx(x - 10)\n",
    "    elif python.direction == \"down\":\n",
    "        y = python.ycor()\n",
    "        python.sety(y - 10)\n",
    "    else:\n",
    "        exit()\n",
    "#coordinating snake's movement with keystrokes on arrow keys       \n",
    "base.onkey(right_side, \"Right\")\n",
    "base.onkey(up, \"Up\")\n",
    "base.onkey(left_side, \"Left\")\n",
    "base.onkey(down, \"Down\")\n",
    "base.listen()  "
   ]
  },
  {
   "cell_type": "markdown",
   "metadata": {},
   "source": [
    "Main loop. Sets the motion parameters."
   ]
  },
  {
   "cell_type": "code",
   "execution_count": null,
   "metadata": {},
   "outputs": [],
   "source": [
    "body = []\n",
    "while True:\n",
    "    base.update()\n",
    "    move_python()\n",
    "    if abs(python.distance(food)) < 15:\n",
    "        food.goto(randint(-290,290), randint(-190,190))\n",
    "        segment = turtle.Turtle()\n",
    "        segment.speed(0)\n",
    "        segment.shape(\"square\")\n",
    "        segment.shapesize(0.5,0.5,1)\n",
    "        segment.color(\"blue\")\n",
    "        segment.penup()\n",
    "        body.append(segment)\n",
    "        delay -= 0.005\n",
    "        \n",
    "        score += 10\n",
    "        \n",
    "        if score > high_score:\n",
    "            high_score = score\n",
    "            \n",
    "        pen.clear()\n",
    "        pen.write(\"Score: {}  High Score: {}\".format(score, high_score), align=\"center\", font=(\"Times\", 18))\n",
    "  \n",
    "        \n",
    "    for i in range(len(body) - 1, 0, -1): #adds body segments\n",
    "        x = body[i - 1].xcor()\n",
    "        y = body[i - 1].ycor()\n",
    "        body[i].goto(x, y)\n",
    "        \n",
    "    if len(body) > 0:\n",
    "        x = python.xcor()\n",
    "        y = python.ycor()\n",
    "        body[0].goto(x, y)\n",
    "        \n",
    "    if abs(python.xcor()) > 290 or abs(python.ycor()) > 190: #if snake goes off-screen\n",
    "        \n",
    "        pen.clear()\n",
    "        pen.write(\"Game Over! High score: {}\".format(score, high_score), align=\"center\", font=(\"Times\", 18))\n",
    "            \n",
    "base.mainloop()"
   ]
  }
 ],
 "metadata": {
  "kernelspec": {
   "display_name": "Python 3",
   "language": "python",
   "name": "python3"
  },
  "language_info": {
   "codemirror_mode": {
    "name": "ipython",
    "version": 3
   },
   "file_extension": ".py",
   "mimetype": "text/x-python",
   "name": "python",
   "nbconvert_exporter": "python",
   "pygments_lexer": "ipython3",
   "version": "3.8.8"
  }
 },
 "nbformat": 4,
 "nbformat_minor": 4
}
